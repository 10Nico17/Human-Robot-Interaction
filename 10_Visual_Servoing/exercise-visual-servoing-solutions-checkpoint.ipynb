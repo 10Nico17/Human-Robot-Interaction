{
 "cells": [
  {
   "cell_type": "code",
   "execution_count": 2,
   "id": "96868fc2",
   "metadata": {},
   "outputs": [],
   "source": [
    "import cv2\n",
    "import numpy as np"
   ]
  },
  {
   "cell_type": "code",
   "execution_count": 3,
   "id": "13499837",
   "metadata": {},
   "outputs": [],
   "source": [
    "'''\n",
    "The following code connects to your webcam and \n",
    "starts open-cv blob detection. \n",
    "You do not need to do anything here.\n",
    "'''\n",
    "\n",
    "# connect to camera. Try argument 'video0' or 'video1' if this line fails\n",
    "cap = cv2.VideoCapture(0)\n",
    "\n",
    "# Check if the webcam is opened correctly\n",
    "if not cap.isOpened():\n",
    "    raise IOError(\"Cannot open webcam\")\n",
    "\n",
    "# specify blob detection parameters\n",
    "params = cv2.SimpleBlobDetector_Params()\n",
    "params.blobColor = 0\n",
    "params.filterByColor = True\n",
    "params.minArea = 100\n",
    "params.filterByArea = True\n",
    "params.filterByCircularity = True\n",
    "params.minThreshold = 100\n",
    "\n",
    "# setup blob detection, depending on the installed version of open-cv\n",
    "ver = (cv2.__version__).split('.')\n",
    "if int(ver[0]) < 3:\n",
    "    detector = cv2.SimpleBlobDetector(params)\n",
    "else:\n",
    "    detector = cv2.SimpleBlobDetector_create(params) "
   ]
  },
  {
   "cell_type": "code",
   "execution_count": null,
   "id": "7d872b25",
   "metadata": {},
   "outputs": [],
   "source": [
    "def get_image_jacobian(img_features:np.ndarray, z:float, f:float) -> np.ndarray:\n",
    "    '''\n",
    "    Returns the image jacobian.\n",
    "\n",
    "    :param img_features: image features [x_img, y_img, r_img]\n",
    "    :param z:            distance to camera\n",
    "    :param f:            camera's focal length\n",
    "    :return:             (3x3) Jacobian matrix\n",
    "    '''\n",
    "\n",
    "    x_img, y_img, r_img = img_features\n",
    "\n",
    "    return np.array([[-f / z,      0,  x_img / z],\n",
    "                     [     0, -f / z,  y_img / z],\n",
    "                     [     0,      0,  r_img / z]])\n",
    "# ---\n"
   ]
  }
 ],
 "metadata": {
  "kernelspec": {
   "display_name": "Python 3 (ipykernel)",
   "language": "python",
   "name": "python3"
  },
  "language_info": {
   "codemirror_mode": {
    "name": "ipython",
    "version": 3
   },
   "file_extension": ".py",
   "mimetype": "text/x-python",
   "name": "python",
   "nbconvert_exporter": "python",
   "pygments_lexer": "ipython3",
   "version": "3.9.7"
  }
 },
 "nbformat": 4,
 "nbformat_minor": 5
}
