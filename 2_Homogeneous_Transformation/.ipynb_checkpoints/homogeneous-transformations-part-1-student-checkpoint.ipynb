{
 "cells": [
  {
   "cell_type": "code",
   "execution_count": null,
   "id": "85eb5d21",
   "metadata": {},
   "outputs": [],
   "source": [
    "import numpy as np                    # library for fast linear algebra computation\n",
    "import matplotlib.pyplot as plt       # library for plotting (i.e, for creating graphs)\n",
    "import seaborn as snb                 # library for making plots look nice\n",
    "snb.set()\n",
    "\n",
    "import plotting                       # custom library for plotting vectors and frames"
   ]
  },
  {
   "cell_type": "markdown",
   "id": "57450e74",
   "metadata": {},
   "source": [
    "---------"
   ]
  },
  {
   "cell_type": "markdown",
   "id": "74c05f78",
   "metadata": {},
   "source": [
    "## Homogeneous Transformations\n",
    "\n",
    "------\n",
    "\n",
    "Homogeneous transformation matrices allow us to do three things: <br> \n",
    "1) representing reference frames relative to other reference frames, <br>\n",
    "2) mapping vectors between reference frames (for example, from end effector frame to base frame) <br>\n",
    "3) mapping representations of reference frames between reference frames\n",
    "\n",
    "They do this by realizing both a *rotation and a translation* in a single transformation. <br>\n",
    "\n",
    "\n",
    "In general, a homogeneous transformation matrix has the following form:\n",
    "\n",
    "\n",
    "$^{A}_{B}\\mathbf{T} = \\begin{bmatrix} \n",
    "\\begin{bmatrix}\n",
    "    &                    &    \\\\\n",
    "    &  ^{A}\\mathbf{R}    &    \\\\\n",
    "    &                    &\n",
    "\\end{bmatrix} &\n",
    "\\begin{bmatrix}\n",
    "               \\\\\n",
    "^{A}\\mathbf{t} \\\\\n",
    "               \\\\\n",
    "\\end{bmatrix}  \\\\\n",
    "\\begin{bmatrix} \n",
    " 0    &    \\cdots       &  0  \\\\  \n",
    "\\end{bmatrix} &\n",
    "1\n",
    "\\end{bmatrix}$, \n",
    "\n",
    "\n",
    "\n",
    "Here, $^{A}\\mathbf{R}$ is a $(n \\times n)$ rotation matrix that rotates frame $[A]$ to have the same orientation as frame $[B]$, <br> \n",
    "and $^{A}\\mathbf{t} = [t_1, t_2, \\cdots, t_n]^T$ is a translation vector pointing from the origin of $[A]$ to the origin of $[B]$. <br>\n",
    "Both the rotation matrix and the translation vector are defined in reference frame $[A]$.\n",
    "\n",
    "\n",
    "By multiplying $^{A}_{B}\\mathbf{T}$ from the left to an input vector $^{B}\\mathbf{p}$ that is defined in reference frame $[B]$, <br>\n",
    "we obtain the vector $^{A}\\mathbf{p}$ defined in $[A]$ that points to the same point as vector $^{B}\\mathbf{p}$.\n",
    "\n",
    "$^{A}\\mathbf{p} = ^{A}_{B}T ^{B}\\mathbf{p}$\n",
    "<br>\n",
    "<br>\n",
    "\n",
    "#### Dimensionality Shift\n",
    "Before applying the homogeneous transformation $^{A}_{B}\\mathbf{T}$ to the vector $^B\\mathbf{p} = [p_1, p_2, \\dots, p_n]^T$, <br>\n",
    "this vector needs to be shifted to a higher dimension by augmenting it with an additional one: $^{B}\\mathbf{p'} = [p_1, p_2, \\dots, p_n, 1]^T$. <br> \n",
    "The resulting vector $^{A}\\mathbf{p'} = [p_1, p_2, \\dots, p_n, 1]^T$ in frame $[A]$ also has this additional one. <br>\n",
    "We obtain the vector $^{A}\\mathbf{p}$ in the original, lower-dimensional space by simply removing it. "
   ]
  },
  {
   "cell_type": "markdown",
   "id": "4a0501c7",
   "metadata": {},
   "source": [
    "------------"
   ]
  },
  {
   "cell_type": "markdown",
   "id": "d8c6896b",
   "metadata": {},
   "source": [
    "### Task 1: Homogeneous Transformations in Python\n",
    "Implement the function get_HT() that constructs and returns a homogeneous transformation matrix $^{A}_{B}\\mathbf{T}$. <br>\n",
    "This matrix maps a vector from the 2D space $[B]$ to the 2D space $[A]$. <br>\n",
    "Thus, $^{A}_{B}\\mathbf{T}$ is a $(3 \\times 3)$ matrix that can be applied to 3D inputs, or in other words,\n",
    "to originally 2D vectors with an augmented one.\n",
    "\n",
    "The function get_HT() takes as input a rotation angle $\\theta$ that indicates how much frame $[A]$ needs to be rotated to have the same orientation as frame $[B]$, <br>\n",
    "and the input vector $\\mathbf{t} = [t_x, t_y]$ that indicates how $[A]$ needs to be translated so that its origin is at the same location as the origin of frame $[B]$."
   ]
  },
  {
   "cell_type": "code",
   "execution_count": null,
   "id": "0fde7390",
   "metadata": {},
   "outputs": [],
   "source": [
    "'''<IMPLEMENT YOUR CODE BELOW!>'''\n",
    "\n",
    "def get_HT(theta:float, tx:float, ty:float) -> np.ndarray:\n",
    "    '''\n",
    "    Returns a homogeneous transformation matrix, realizing a rotation of an input vector \n",
    "    with angle theta (in rad) and a translation with vector (tx, ty).\n",
    "    '''\n",
    "    return np.array([[bla, bla, bla],\n",
    "                     [bla, bla, bla],\n",
    "                     [bla, bla, bla]])\n",
    "# ---"
   ]
  },
  {
   "cell_type": "markdown",
   "id": "de68f505",
   "metadata": {},
   "source": [
    "-------"
   ]
  },
  {
   "cell_type": "markdown",
   "id": "55c2378a",
   "metadata": {},
   "source": [
    "### Task 2: Relative Representation of Reference Frames\n",
    "\n",
    "Create a homogeneous transformation $^{A}_{B}\\mathbf{T}$ to represent reference frame $[B]$ relative to reference frame $[A]$. <br>\n",
    "Relative to $[A]$, frame $[B]$ is rotated by $\\theta = \\pi/4$ and translated by $^A\\mathbf{t} = [3, 0]^T$."
   ]
  },
  {
   "cell_type": "code",
   "execution_count": null,
   "id": "1223270c",
   "metadata": {},
   "outputs": [],
   "source": [
    "'''\n",
    "<IMPLEMENT YOUR CODE BELOW!>\n",
    "\n",
    "Use the function get_HT() from above.\n",
    "'''\n",
    "# Create homogeneous transformation that represents frame B relative to frame A\n",
    "T_A_B = '''<CODE HERE!>'''\n",
    "\n",
    "\n",
    "\n",
    "'''\n",
    "<UNDERSTAND THE PLOT BELOW!>\n",
    "It shows reference frame [B] relative to reference frame [A].\n",
    "'''\n",
    "# plot frame B in reference frame A\n",
    "plotting.plot_frame(T_A_B, frame_name='B', rel_frame_name='A')"
   ]
  },
  {
   "cell_type": "markdown",
   "id": "349e8d01",
   "metadata": {},
   "source": [
    "-------"
   ]
  },
  {
   "cell_type": "markdown",
   "id": "65454fb3",
   "metadata": {},
   "source": [
    "### Task 3: Relative Representation of Vectors\n",
    "\n",
    "Create a vector $^{B}\\mathbf{p} = [1, 1]^T$ that is defined in reference frame $[B]$. <br>\n",
    "Tipp: You do this exactly the same way before when you were creating a vector."
   ]
  },
  {
   "cell_type": "code",
   "execution_count": null,
   "id": "2a68c118",
   "metadata": {},
   "outputs": [],
   "source": [
    "# define vector relative to reference frame [B]\n",
    "p_B = '''<CODE HERE!>'''\n",
    "\n",
    "# plot vector p_B inside reference frame [B]\n",
    "plotting.plot_vector(p_B, rel_frame_name='B')"
   ]
  },
  {
   "cell_type": "markdown",
   "id": "89aa9e8f",
   "metadata": {},
   "source": [
    "------"
   ]
  },
  {
   "cell_type": "markdown",
   "id": "a2321941",
   "metadata": {},
   "source": [
    "### Task 4: Mapping Vectors Between Frames\n",
    "\n",
    "The vector $^{B}\\mathbf{p}$ you created above is defined in reference frame $[B]$. <br>\n",
    "Thanks to the homogeneous transformation $^{A}_{B}\\mathbf{T}$, we know how frame $[B]$ is defined relative to frame $[A]$.\n",
    "\n",
    "Now, we can use the very same homogeneous transformation $^{A}_{B}\\mathbf{T}$ to obtain a vector $^{A}\\mathbf{p}$ that is defined in frame $[A]$ <br> and points to the same location (in frame $[A]$) as the vector $^{B}\\mathbf{p}$.\n",
    "\n",
    "We do this by 1) augmenting $^{B}\\mathbf{p}$ with an additional one, 2) multiplying $^{A}_{B}\\mathbf{T}$ from the left, and 3) removing the augmented one from the resulting vector.\n",
    "\n",
    "Implement your code at the indicated locations below!"
   ]
  },
  {
   "cell_type": "code",
   "execution_count": null,
   "id": "73975e13",
   "metadata": {},
   "outputs": [],
   "source": [
    "'''<IMPLEMENT YOUR CODE BELOW!>'''\n",
    "\n",
    "\n",
    "def apply_ht(T:np.ndarray, X:np.ndarray):\n",
    "    '''\n",
    "    Applies a homogeneous transformation T to an input X.\n",
    "    \n",
    "    1) the input is shifted to another dimension by augmenting it with ones.\n",
    "    2) the homogeneous transformation is applied.\n",
    "    3) the output is shifted back by removing the augmented ones.\n",
    "\n",
    "    :param T:     homogeneous transformation matrix\n",
    "    :param X:     input (can be vector or a data matrix)\n",
    "    '''\n",
    "        \n",
    "    # 1.) augment input with ones\n",
    "    if len(X.shape) == 1: \n",
    "        # input is a vector\n",
    "        X_augmented = np.append(X, 1)\n",
    "    else:                  \n",
    "        # input is a data matrix\n",
    "        X_augmented = np.vstack([X, np.ones(X.shape[1])])\n",
    "    \n",
    "    \n",
    "    # 2) apply homogeneous transformation to the shifted\n",
    "    #    the result of this operation 'Y_augmented' will also be augmented with additional ones\n",
    "    Y_augmented = '''<IMPLEMENT YOUR CODE HERE!>'''\n",
    "    \n",
    "    \n",
    "    # 3) remove augmented ones\n",
    "    if len(X.shape) == 1: \n",
    "        # input is a vector\n",
    "        return Y_augmented[:-1]\n",
    "    else:\n",
    "        # input is a data matrix\n",
    "        return Y_augmented[:-1, :]\n",
    "# ---"
   ]
  },
  {
   "cell_type": "code",
   "execution_count": null,
   "id": "145aaf3f",
   "metadata": {},
   "outputs": [],
   "source": [
    "'''\n",
    "<IMPLEMENT YOUR CODE BELOW!>\n",
    "\n",
    "Use the function apply_ht() from above.\n",
    "'''\n",
    "\n",
    "# Obtain vector p_A (which is defined in frame [A]) by mapping the vector p_B from frame [B] to frame [A]\n",
    "p_A = '''<CODE HERE!>'''"
   ]
  },
  {
   "cell_type": "code",
   "execution_count": null,
   "id": "f073f104",
   "metadata": {},
   "outputs": [],
   "source": [
    "'''\n",
    "<UNDERSTAND THE PLOT BELOW!>\n",
    "\n",
    "The plot shows reference frame [B] relative to reference frame [A].\n",
    "It also shows the vector p_A that was originally defined as vector p_B in frame [B],\n",
    "but is now defined in frame [A].\n",
    "'''\n",
    "\n",
    "# plot reference frame B relative to reference frame A\n",
    "plotting.plot_frame(T_A_B, frame_name='B', rel_frame_name='A', do_show=False)\n",
    "\n",
    "# plot vector p_A relative to reference frame A\n",
    "plotting.plot_vector(p_A, rel_frame_name='B', new_fig=False)"
   ]
  },
  {
   "cell_type": "markdown",
   "id": "e7ba6e4d",
   "metadata": {},
   "source": [
    "--------"
   ]
  },
  {
   "cell_type": "markdown",
   "id": "52004c1f",
   "metadata": {},
   "source": [
    "### Task 5: Mapping Data Matrices Between Frames\n",
    "\n",
    "Since a homogeneous transformations are a specific type of linear transformations, we can apply them not only to a single vector, <br> \n",
    "but simultaneously to a whole collection of vectors stored in a data matrix ${^{B}\\mathbf{X}}$\n",
    "whose column vectors (the data points) $^{B}\\mathbf{x}_i$ <br>\n",
    "are defined relative to some reference frame $[B]$.\n",
    "\n",
    "$^{B}\\mathbf{X} = \\left[ ^{B}\\mathbf{x}_1, {^{B}\\mathbf{x}_2}, \\dots, {^{B}\\mathbf{x}_n} \\right]$,\n",
    "\n",
    "Thus, to map all data points in $^{B}\\mathbf{X}$ from frame $[B]$ to frame $[A]$, we can simply multiply the transformation $^{A}_{B}\\mathbf{T}$ from the left:\n",
    "\n",
    "$^{A}\\mathbf{X} = ^{A}_{B}\\mathbf{T}^{B}\\mathbf{X}$\n",
    "\n",
    "<br>\n",
    "Let us have a look at a specific data matrix that stores points of a vector image, <br> \n",
    "more specifically, it stores the corner points of the house of nicolaus. "
   ]
  },
  {
   "cell_type": "code",
   "execution_count": null,
   "id": "9fe902b1",
   "metadata": {},
   "outputs": [],
   "source": [
    "'''<READ AND UNDERSTAND THE CODE BELOW!>'''\n",
    "\n",
    "# define the corner points of the house of nicolaus\n",
    "# (every column of this matrix is a data point)\n",
    "house_B = np.array([[0.5, 0.5, 1.5, 1.5, 1.0, 0.5, 1.5, 0.5, 1.5],\n",
    "                    [0.5, 1.5, 0.5, 1.5, 2.0, 1.5, 1.5, 0.5, 0.5]])\n",
    "\n",
    "# let's have a look\n",
    "plotting.plot_image(house_B, rel_frame_name='B')"
   ]
  },
  {
   "cell_type": "code",
   "execution_count": null,
   "id": "a4385032",
   "metadata": {},
   "outputs": [],
   "source": [
    "'''\n",
    "<IMPLEMENT YOUR CODE BELOW!>\n",
    "\n",
    "Again, use the function apply_ht() from above.\n",
    "'''\n",
    "\n",
    "# map the house of nicolaus (that is defined in frame [B]) to frame [A]\n",
    "house_A = '''<CODE HERE!>'''"
   ]
  },
  {
   "cell_type": "code",
   "execution_count": null,
   "id": "1f308a1e",
   "metadata": {},
   "outputs": [],
   "source": [
    "'''\n",
    "<UNDERSTAND THE PLOT BELOW!>\n",
    "\n",
    "The plot shows reference frame [B] relative to reference frame [A].\n",
    "It also shows the house house_A that was originally defined as data matrix house_B in frame [B],\n",
    "but is now defined in frame [A].\n",
    "'''\n",
    "\n",
    "# plot reference frame B relative to reference frame A\n",
    "plotting.plot_frame(T_A_B, frame_name='B', rel_frame_name='A', do_show=False)\n",
    "\n",
    "plotting.plot_image(house_A, rel_frame_name='A', new_fig=False)"
   ]
  },
  {
   "cell_type": "markdown",
   "id": "039389a4",
   "metadata": {},
   "source": [
    "-----"
   ]
  },
  {
   "cell_type": "markdown",
   "id": "f371409d",
   "metadata": {},
   "source": [
    "### Task 6: Mapping Reference Frames between Reference Frames\n",
    "\n",
    "Let's assume, we have data points stored in a data matrix $^{C}\\mathbf{X}$ which are defined relative to reference frame $[C]$. Furthermore, we have a homogeneous transformation $^{B}_{C}\\mathbf{T}$ which tells us how frame $[C]$ is defined relative to frame $[B]$. In addition, we know how frame $[B]$ is defined relative to frame $[A]$, which is encoded in the homogeneous transformation $^{A}_{B}\\mathbf{T}$.\n",
    "\n",
    "We would like to map the data points from frame $[C]$ to frame $[A]$. For this, we need a homogeneous transformation $^{A}_{C}\\mathbf{T}$ that defines frame $[C]$ relative to frame $[A]$. In other words, we want frame $[C]$ to be represented in frame $[A]$, instead of frame $[B]$.  We can obtain like this:\n",
    "\n",
    "$^{A}_{C}\\mathbf{T} = ^{A}_{B}\\mathbf{T} {^{B}_{C}\\mathbf{T}}$\n",
    "\n",
    "And therefore, the data points $^{A}\\mathbf{X}$ defined relative to frame $[A]$ are obtained like this:\n",
    "\n",
    "$^{A}\\mathbf{X} \\ = \\ ^{A}_{C}\\mathbf{T} ^{C}\\mathbf{X} \\ = \\ ^{A}_{B}\\mathbf{T} {^{B}_{C}\\mathbf{T}} ^{C}\\mathbf{X}$\n",
    "\n",
    "In other words, we propagate the data points through the different reference frames by using homogeneous transformations to map between consecutive frames.\n",
    "\n",
    "Relative to frame $[B]$, the frame $[C]$ is rotated by $\\theta = -\\pi/8$ and translated by $^{B}\\mathbf{t}=[3, -0.5]^T$."
   ]
  },
  {
   "cell_type": "code",
   "execution_count": null,
   "id": "9329ddbd",
   "metadata": {},
   "outputs": [],
   "source": [
    "'''<IMPLEMENT YOUR CODE BELOW>'''\n",
    "\n",
    "# Represent frame [C] relative to frame [B] as a homogeneous transformation\n",
    "# Frame C is rotated by pi/8 and translated by [3, -0.5]\n",
    "T_B_C = '''<CODE HERE!>'''"
   ]
  },
  {
   "cell_type": "code",
   "execution_count": null,
   "id": "dce86794",
   "metadata": {},
   "outputs": [],
   "source": [
    "'''<READ AND UNDERSTAND THE CODE BELOW!>'''\n",
    "\n",
    "# Define the corner points of the house of nicolaus in frame [C]\n",
    "# (every column of this matrix is a data point)\n",
    "house_C = np.array([[0.5, 0.5, 1.5, 1.5, 1.0, 0.5, 1.5, 0.5, 1.5],\n",
    "                    [0.5, 1.5, 0.5, 1.5, 2.0, 1.5, 1.5, 0.5, 0.5]])\n",
    "\n",
    "# Plot the house of nicolaus in frame [C]\n",
    "plotting.plot_image(house_C, rel_frame_name='C')"
   ]
  },
  {
   "cell_type": "code",
   "execution_count": null,
   "id": "792f1280",
   "metadata": {},
   "outputs": [],
   "source": [
    "'''\n",
    "<IMPLEMENT YOUR CODE BELOW!>\n",
    "\n",
    "Again, use the function apply_ht() from above.\n",
    "'''\n",
    "\n",
    "# Map house of nicolaus (that is defined in frame [C]) to frame [B]\n",
    "house_B = '''<CODE HERE!>'''\n",
    "\n",
    "\n",
    "\n",
    "'''\n",
    "<UNDERSTAND THE PLOT BELOW!>\n",
    "\n",
    "It shows the frame [C] relative to frame [B].\n",
    "It also shows the house of nicolaus, now defined in frame [B]\n",
    "'''\n",
    "# plot frame C in frame B\n",
    "plotting.plot_frame(T_B_C, frame_name='C', rel_frame_name='B', do_show=False)\n",
    "\n",
    "# plot house in frame B (house was originally defined in frame C)\n",
    "plotting.plot_image(house_B, rel_frame_name='B', new_fig=False)"
   ]
  },
  {
   "cell_type": "code",
   "execution_count": null,
   "id": "1b87fe29",
   "metadata": {},
   "outputs": [],
   "source": [
    "'''\n",
    "<IMPLEMENT YOUR CODE BELOW!>\n",
    "\n",
    "Again, use the function apply_ht() from above.\n",
    "'''\n",
    "\n",
    "# Represent frame [C] relative to frame [A] as a homogeneous transformation matrix T_A_C.\n",
    "# For this, use the homogeneous transformation T_A_B that represents frame [B] inside frame [A].\n",
    "T_A_C = '''<CODE HERE!>'''\n",
    "\n",
    "# Map the house of nicolaus from frame [C] to frame [A]\n",
    "house_A = '''<CODE HERE!>'''"
   ]
  },
  {
   "cell_type": "code",
   "execution_count": null,
   "id": "a52af962",
   "metadata": {},
   "outputs": [],
   "source": [
    "'''\n",
    "<UNDERSTAND THE PLOT BELOW!>\n",
    "\n",
    "It shows the frames [B] and [C] relative to frame [A].\n",
    "It also shows the house of nicolaus, now defined in frame [A]\n",
    "\n",
    "\n",
    "We can show the house of nicolaus in frame [A], because we defined it in frame [C],\n",
    "then mapped it from frame [C] to frame [B], and finally from frame [B] to frame [A]. \n",
    "For these mappings, we used homogeneous transformations.\n",
    "'''\n",
    "\n",
    "# plot frame C in frame A\n",
    "plotting.plot_frame(T_A_C, frame_name='C', rel_frame_name='A', do_show=False)\n",
    "\n",
    "# plot frame B in frame A\n",
    "plotting.plot_frame(T_A_B, frame_name='B', rel_frame_name='A', new_fig=False, do_show=False)\n",
    "\n",
    "# plot house in frame A (house was originally defined in frame C)\n",
    "plotting.plot_image(house_A, rel_frame_name='A', new_fig=False)"
   ]
  }
 ],
 "metadata": {
  "kernelspec": {
   "display_name": "Python 3 (ipykernel)",
   "language": "python",
   "name": "python3"
  },
  "language_info": {
   "codemirror_mode": {
    "name": "ipython",
    "version": 3
   },
   "file_extension": ".py",
   "mimetype": "text/x-python",
   "name": "python",
   "nbconvert_exporter": "python",
   "pygments_lexer": "ipython3",
   "version": "3.9.7"
  }
 },
 "nbformat": 4,
 "nbformat_minor": 5
}
